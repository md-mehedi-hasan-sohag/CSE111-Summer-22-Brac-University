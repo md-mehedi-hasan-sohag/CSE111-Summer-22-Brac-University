{
 "cells": [
  {
   "cell_type": "code",
   "execution_count": 4,
   "id": "3ab2de23",
   "metadata": {},
   "outputs": [
    {
     "name": "stdout",
     "output_type": "stream",
     "text": [
      "HOusE\n",
      "HOUSE\n"
     ]
    }
   ],
   "source": [
    "#Task-1(String)\n",
    "string=input()\n",
    "ucount=0\n",
    "lcount=0\n",
    "for i in string:\n",
    "    if(ord(i)>=65 and ord(i)<=90):\n",
    "        ucount+=1\n",
    "    elif(ord(i)>=97 and ord(i)<=122):\n",
    "        lcount+=1\n",
    "if(ucount>lcount):\n",
    "    print(string.upper())\n",
    "else:\n",
    "    print(string.lower())"
   ]
  },
  {
   "cell_type": "code",
   "execution_count": 20,
   "id": "26627c2a",
   "metadata": {},
   "outputs": [
    {
     "name": "stdout",
     "output_type": "stream",
     "text": [
      "12joy\n",
      "MIXED\n"
     ]
    }
   ],
   "source": [
    "#Task-2(String)\n",
    "string=input()\n",
    "word=False\n",
    "digit=False\n",
    "for i in string:\n",
    "    if((ord(i)>=65 and ord(i)<=90) or (ord(i)>=97 and ord(i)<=122)):\n",
    "        word=True\n",
    "    elif(ord(i)>=48 and ord(i)<=57):\n",
    "        digit=True\n",
    "if(digit==True and word==True):\n",
    "    print('MIXED')\n",
    "elif(digit==True or word==False):\n",
    "    print('DIGIT')\n",
    "elif(digit==False or word==True):\n",
    "    print('WORD')"
   ]
  },
  {
   "cell_type": "code",
   "execution_count": 2,
   "id": "4f15feb6",
   "metadata": {},
   "outputs": [
    {
     "name": "stdout",
     "output_type": "stream",
     "text": [
      "coDIng\n",
      "BLANK\n"
     ]
    }
   ],
   "source": [
    "#Task-3(String)\n",
    "word=input()\n",
    "count=0\n",
    "new_word=\"\"\n",
    "for i in word:\n",
    "    if(ord(i)>=65 and ord(i)<=90):\n",
    "        count+=1\n",
    "        continue\n",
    "    if(count==1):\n",
    "        new_word+=i\n",
    "if count==2:\n",
    "    if(len(new_word)==0):\n",
    "        print(\"BLANK\")\n",
    "    else:\n",
    "        print(new_word)"
   ]
  },
  {
   "cell_type": "code",
   "execution_count": 7,
   "id": "20d670d6",
   "metadata": {},
   "outputs": [
    {
     "name": "stdout",
     "output_type": "stream",
     "text": [
      "harry\n",
      "hermione\n",
      "hrrhr\n"
     ]
    }
   ],
   "source": [
    "#Task-4(String)\n",
    "str1=input()\n",
    "str2=input()\n",
    "new_str=''\n",
    "for i in str1:\n",
    "    if(i in str2):\n",
    "        new_str+=i\n",
    "for i in str2:\n",
    "    if(i in str1):\n",
    "        new_str+=i\n",
    "if(new_str!=''):\n",
    "    print(new_str)\n",
    "else:\n",
    "    print('Nothing in common.')"
   ]
  },
  {
   "cell_type": "code",
   "execution_count": 2,
   "id": "68181c52",
   "metadata": {},
   "outputs": [
    {
     "name": "stdout",
     "output_type": "stream",
     "text": [
      "qwerrt\n",
      "Uppercase character missing, Special character missing, Digit missing\n"
     ]
    }
   ],
   "source": [
    "#Task-5(String)\n",
    "password=input()\n",
    "spechar='@#$_'\n",
    "lcase=False\n",
    "ucase=False\n",
    "digit=False\n",
    "scase=False\n",
    "output=''\n",
    "for i in password:\n",
    "    if(ord(i)>=65 and ord(i)<=90):\n",
    "        ucase=True\n",
    "    elif(ord(i)>=97 and ord(i)<=122):\n",
    "        lcase=True\n",
    "    elif(ord(i)>=48 and ord(i)<=57):\n",
    "        digit=True\n",
    "    elif(i in spechar):\n",
    "        scase=True\n",
    "if(ucase==False):\n",
    "    output+='Uppercase character missing, '\n",
    "if(lcase==False):\n",
    "    output+='Lowercase character missing, '\n",
    "if(scase==False):\n",
    "    output+='Special character missing, '\n",
    "if(digit==False):\n",
    "    output+='Digit missing, '\n",
    "output=output[:-2]\n",
    "if(ucase==True and lcase==True and digit==True and scase==True):\n",
    "    print('OK')\n",
    "else:\n",
    "    print(output)"
   ]
  },
  {
   "cell_type": "code",
   "execution_count": 1,
   "id": "84e618ef",
   "metadata": {},
   "outputs": [
    {
     "name": "stdout",
     "output_type": "stream",
     "text": [
      "10\n",
      "20\n",
      "20\n",
      "30\n",
      "10\n",
      "50\n",
      "90\n",
      "STOP\n",
      "10 - 2 times\n",
      "20 - 2 times\n",
      "30 - 1 times\n",
      "50 - 1 times\n",
      "90 - 1 times\n"
     ]
    }
   ],
   "source": [
    "#Task-1(List)\n",
    "list1= []\n",
    "while(True):\n",
    "    var=input()\n",
    "    if(var=='STOP'):\n",
    "        break\n",
    "    else:\n",
    "        list1.append(int(var))\n",
    "list2=[]\n",
    "for i in list1:\n",
    "    if(i not in list2):\n",
    "        list2.append(i)\n",
    "list3=[]\n",
    "for i in list2:\n",
    "    list3.append(list1.count(i))\n",
    "x=len(list3)\n",
    "for j in range(x):\n",
    "    print(list2[j],'-',list3[j],'times')"
   ]
  },
  {
   "cell_type": "code",
   "execution_count": 2,
   "id": "57acf89d",
   "metadata": {},
   "outputs": [
    {
     "name": "stdout",
     "output_type": "stream",
     "text": [
      "4\n",
      "12 45 89\n",
      "12 23 34\n",
      "12 45 34\n",
      "76 98 54\n",
      "228\n",
      "[76, 98, 54]\n"
     ]
    }
   ],
   "source": [
    "#Task-2(List)\n",
    "var=int(input())\n",
    "mainList=[]\n",
    "sumList=[]\n",
    "for i in range(var):\n",
    "    list1=input().split(' ')\n",
    "    list2=[]\n",
    "    for j in list1:\n",
    "        list2.append(int(j))\n",
    "    mainList.append(list2)\n",
    "    sum=0\n",
    "    for k in list2:\n",
    "        sum+=k\n",
    "    sumList.append(sum)\n",
    "#print(mainList)\n",
    "#print(sumList)\n",
    "maximum=sumList[0]\n",
    "for i in range(len(sumList)):\n",
    "    if(sumList[i]>maximum):\n",
    "        maximum=sumList[i]\n",
    "print(maximum)\n",
    "x=sumList.index(maximum)\n",
    "print(mainList[x])"
   ]
  },
  {
   "cell_type": "code",
   "execution_count": 24,
   "id": "ec1ee195",
   "metadata": {},
   "outputs": [
    {
     "name": "stdout",
     "output_type": "stream",
     "text": [
      "1 4 4\n",
      "Not UB Jumper\n",
      "STOP\n"
     ]
    }
   ],
   "source": [
    "#Task-3(List)\n",
    "while(True):\n",
    "    value=True\n",
    "    var=input()\n",
    "    if(var=='STOP'):\n",
    "        break\n",
    "    list1=var.split(' ')\n",
    "    lenth=len(list1)\n",
    "    list2=[]\n",
    "    for i in range(lenth):\n",
    "        list2.append(int(list1[i]))\n",
    "    for i in range(lenth-1):\n",
    "        if(abs(list2[i]-list2[i+1])<lenth):\n",
    "            value=True\n",
    "        else:\n",
    "            value=False\n",
    "            break\n",
    "    if(value==True):\n",
    "        print('UB Jumper')\n",
    "    else:\n",
    "        print('Not UB Jumper')"
   ]
  },
  {
   "cell_type": "code",
   "execution_count": 9,
   "id": "3f0f42da",
   "metadata": {},
   "outputs": [
    {
     "name": "stdout",
     "output_type": "stream",
     "text": [
      "5 2\n",
      "0 4 5 1 0\n",
      "1\n"
     ]
    }
   ],
   "source": [
    "#Task-4(List)\n",
    "n,k=input().split()\n",
    "member=input().split()\n",
    "count=0\n",
    "for i in member:\n",
    "    if(5-int(i)>=int(k)):\n",
    "        count+=1\n",
    "print(count//3)"
   ]
  },
  {
   "cell_type": "code",
   "execution_count": 3,
   "id": "c5b87b07",
   "metadata": {},
   "outputs": [
    {
     "name": "stdout",
     "output_type": "stream",
     "text": [
      "a: 100, b: 100, c: 200, d: 300\n",
      "a: 300, b: 200, d: 400, e: 200\n",
      "{'a': 100, ' b': 100, ' c': 200, ' d': 300}\n",
      "{'a': 300, ' b': 200, ' d': 400, ' e': 200}\n",
      "{'a': 400, ' b': 300, ' c': 200, ' d': 700, ' e': 200}\n",
      "[200, 300, 400, 700]\n"
     ]
    }
   ],
   "source": [
    "#Task-1(Dictionary & Tuple)\n",
    "var1=input().split(\",\")\n",
    "var2=input().split(\",\")\n",
    "dict1={}\n",
    "for i in var1:\n",
    "    list1=i.split(\":\")\n",
    "    x=list1[0]\n",
    "    y=int(list1[1].strip())\n",
    "    dict1[x]=y\n",
    "dict2={}\n",
    "for j in var2:\n",
    "    list2=j.split(\":\")\n",
    "    m=list2[0]\n",
    "    n=int(list2[1].strip())\n",
    "    dict2[m]=n\n",
    "dict3={}\n",
    "for p in dict1.keys():\n",
    "    if(dict2.get(p)!=None):\n",
    "        total=dict1[p]+dict2[p]\n",
    "        dict3[p]=total\n",
    "    else:\n",
    "        dict3[p]=dict1[p]\n",
    "for q in dict2.keys():\n",
    "    if(dict3.get(q)==None):\n",
    "        dict3[q]=dict2[q]\n",
    "print(dict3)\n",
    "list3=[]\n",
    "for t in dict3.values():\n",
    "    if(t not in list3):\n",
    "        list3.append(t)\n",
    "for i in range(len(list3)):\n",
    "    minimum=list3[i]\n",
    "    minimum_index=i\n",
    "    for j in range(i+1,len(list3)):\n",
    "        if(list3[j]<minimum):\n",
    "            minimum=list3[j]\n",
    "            minimum_index=j\n",
    "    list3[minimum_index],list3[i]=list3[i],list3[minimum_index]\n",
    "print(list3)"
   ]
  },
  {
   "cell_type": "code",
   "execution_count": 3,
   "id": "5e819107",
   "metadata": {},
   "outputs": [
    {
     "name": "stdout",
     "output_type": "stream",
     "text": [
      "10\n",
      "20\n",
      "20\n",
      "30\n",
      "10\n",
      "50\n",
      "90\n",
      "STOP\n",
      "10 - 2 times\n",
      "20 - 2 times\n",
      "30 - 1 times\n",
      "50 - 1 times\n",
      "90 - 1 times\n"
     ]
    }
   ],
   "source": [
    "#Task-2(Dictionary & Tuple)\n",
    "list1= []\n",
    "while(True):\n",
    "    var=input()\n",
    "    if(var=='STOP'):\n",
    "        break\n",
    "    else:\n",
    "        list1.append(int(var))\n",
    "list2=[]\n",
    "for i in list1:\n",
    "    if(i not in list2):\n",
    "        list2.append(i)\n",
    "list3=[]\n",
    "for i in list2:\n",
    "    list3.append(list1.count(i))\n",
    "dict1={}\n",
    "for i in range(len(list2)):\n",
    "    dict1[list2[i]]=list3[i]\n",
    "#print(dict1)\n",
    "for j in dict1:\n",
    "    print(j,'-',dict1[j],'times')"
   ]
  },
  {
   "cell_type": "code",
   "execution_count": 18,
   "id": "e8728067",
   "metadata": {},
   "outputs": [
    {
     "name": "stdout",
     "output_type": "stream",
     "text": [
      "key1 : value1, key2 : value2, key3 : value1\n",
      "{' value1': ['key1 ', ' key3 '], ' value2': [' key2 ']}\n"
     ]
    }
   ],
   "source": [
    "#Task-3(Dictionary & Tuple)\n",
    "var=input().split(',')\n",
    "dict1={}\n",
    "for i in var:\n",
    "    list1=i.split(\":\")\n",
    "    x=list1[0]\n",
    "    y=list1[1]\n",
    "    dict1[x]=y\n",
    "dict2={}\n",
    "for k,j in dict1.items():\n",
    "    if(dict2.get(j)==None):\n",
    "        dict2[j]=[k]\n",
    "    else:\n",
    "        if k not in dict2[j]:\n",
    "            dict2[j].append(k)\n",
    "print(dict2)"
   ]
  },
  {
   "cell_type": "code",
   "execution_count": 10,
   "id": "1052107f",
   "metadata": {},
   "outputs": [
    {
     "name": "stdout",
     "output_type": "stream",
     "text": [
      "Hello, World!\n",
      "4433555555666110966677755531111\n"
     ]
    }
   ],
   "source": [
    "#Task-4(Dictionary & Tuple)\n",
    "dict1={1:\".,?!:\",2:\"ABC\",3:\"DEF\",4:\"GHI\",5:\"JKL\",6:\"MNO\",7:\"PQRS\",8:\"TUV\",9:\"WXYZ\",0:\" \"}\n",
    "var=input()\n",
    "num=\"\"\n",
    "count=0\n",
    "for i in var:\n",
    "    for k,v in dict1.items():\n",
    "        if i.upper() in v:\n",
    "            letter = i.upper()\n",
    "            for j in v:\n",
    "                count+=1\n",
    "                if j==letter:\n",
    "                    break\n",
    "            num+=str(k)*count\n",
    "            count=0\n",
    "print(num)"
   ]
  },
  {
   "cell_type": "code",
   "execution_count": 1,
   "id": "8f7a0f85",
   "metadata": {},
   "outputs": [
    {
     "name": "stdout",
     "output_type": "stream",
     "text": [
      "175\n",
      "96\n",
      "Score is 31.3. You are Obese\n"
     ]
    }
   ],
   "source": [
    "#Task-1(Function)\n",
    "def gym(height,weight):\n",
    "    meter=height/100\n",
    "    BMI=weight/(meter*meter)\n",
    "    bmi=round(BMI,1)\n",
    "    if(BMI<18.5):\n",
    "        print(f\"Score is {bmi}. You are Underweight\")\n",
    "    elif(18.5<=BMI<=24.9):\n",
    "        print(f\"Score is {bmi}. You are Normal\")\n",
    "    elif(25<=BMI<=30):\n",
    "        print(f\"Score is {bmi}. You are Overweight\")\n",
    "    else:\n",
    "        print(f\"Score is {bmi}. You are Obese\")\n",
    "var=int(input())\n",
    "var1=int(input())\n",
    "gym(var,var1)"
   ]
  },
  {
   "cell_type": "code",
   "execution_count": 4,
   "id": "2e30ca98",
   "metadata": {},
   "outputs": [
    {
     "name": "stdout",
     "output_type": "stream",
     "text": [
      "0\n",
      "10\n",
      "2\n",
      "20\n"
     ]
    }
   ],
   "source": [
    "#Task-2(Function)\n",
    "def function_name(minimum,maximum,divisor):\n",
    "    x=minimum\n",
    "    sum=0\n",
    "    while(maximum>x):\n",
    "        if(x%divisor==0):\n",
    "            sum+=x\n",
    "        x+=1\n",
    "    return sum\n",
    "var1=int(input())\n",
    "var2=int(input())\n",
    "var3=int(input())\n",
    "print(function_name(var1,var2,var3))"
   ]
  },
  {
   "cell_type": "code",
   "execution_count": 10,
   "id": "72d82f3b",
   "metadata": {},
   "outputs": [
    {
     "name": "stdout",
     "output_type": "stream",
     "text": [
      "Beef Burger\n",
      "223.6\n"
     ]
    }
   ],
   "source": [
    "#Task-3(Function)\n",
    "def function_name(bgname,location=\"Mohakhali\"):\n",
    "    total=0;\n",
    "    if(bgname=='BBQ Chicken Cheese Burger'):\n",
    "        total+=250\n",
    "    elif(bgname=='Beef Burger'):\n",
    "        total+=170\n",
    "    elif(bgname=='Naga Drums'):\n",
    "        total+=200\n",
    "    tax=total*.08\n",
    "    price=total+tax\n",
    "    if(location==\"Mohakhali\"):\n",
    "        price+=40\n",
    "    else:\n",
    "        price+=60\n",
    "    print(price)\n",
    "var1=input()\n",
    "function_name(var1)"
   ]
  },
  {
   "cell_type": "code",
   "execution_count": 5,
   "id": "0f944e54",
   "metadata": {},
   "outputs": [
    {
     "name": "stdout",
     "output_type": "stream",
     "text": [
      "Unchanged: bob@sheba.xyz\n"
     ]
    }
   ],
   "source": [
    "#Task-4(Function)\n",
    "def replace_domain(mail,ndomain,odomain=None):\n",
    "    if ndomain in mail:\n",
    "        print(\"Unchanged:\",mail)\n",
    "    else:\n",
    "        nmail=\"\"\n",
    "        for i in mail:\n",
    "            nmail+=i\n",
    "            if i==\"@\":\n",
    "                break\n",
    "        nmail+=ndomain\n",
    "        print(\"Changed:\",nmail)\n",
    "replace_domain('bob@sheba.xyz', 'sheba.xyz')"
   ]
  },
  {
   "cell_type": "code",
   "execution_count": 2,
   "id": "6b4eca1d",
   "metadata": {},
   "outputs": [
    {
     "name": "stdout",
     "output_type": "stream",
     "text": [
      "madam\n",
      "Palindrome\n"
     ]
    }
   ],
   "source": [
    "#Task-5(Function)\n",
    "def palindrome(var):\n",
    "    var2=''\n",
    "    for i in var:\n",
    "        if('A'<=i<='Z' or 'a'<=i<='z'):\n",
    "            var2+=i\n",
    "    var2=var2.lower()\n",
    "    var3=\"\"\n",
    "    for j in var2[::-1]:\n",
    "        var3+=j\n",
    "    if(var2==var3):\n",
    "        print('Palindrome')\n",
    "    else:\n",
    "        print('Not a palindrome')\n",
    "num=input()\n",
    "palindrome(num)"
   ]
  },
  {
   "cell_type": "code",
   "execution_count": 1,
   "id": "c86f9e67",
   "metadata": {},
   "outputs": [
    {
     "name": "stdout",
     "output_type": "stream",
     "text": [
      "My favourite animal is a dog. A dog has sharp teeth so that it can eat flesh very easily. Do you know my pet dog’s name? I love my pet very much.\n"
     ]
    }
   ],
   "source": [
    "#Task-6(Function)\n",
    "def function_name(var):\n",
    "    string=\"\"\n",
    "    spechar=['.','?','!']\n",
    "    scase=False\n",
    "    for i in range(0,len(var)):\n",
    "        if(i==0):\n",
    "            string+=var[i].upper()\n",
    "        elif(var[i]==' '):\n",
    "            string+=var[i]\n",
    "        elif(var[i] in spechar):\n",
    "            string+=var[i]\n",
    "            scase=True\n",
    "        elif(scase==True):\n",
    "            string+=var[i].upper()\n",
    "            scase=False\n",
    "        #elif var[i].isupper() and scase==False:   # means a letter which should not be upper \n",
    "            #string+=var[i].lower()\n",
    "        elif(var[i]==\"i\"):\n",
    "            #if(i==len(var)-1 and var[i-1]==\" \"):\n",
    "                #string+=var[i].upper()\n",
    "            if(var[i-1]==\" \" and (var[i+1]==\" \" or var[i+1] in spechar)):\n",
    "                string+=var[i].upper()\n",
    "            else:\n",
    "                string+=var[i]\n",
    "        else:\n",
    "            string+=var[i]\n",
    "    return string\n",
    "value='my favourite animal is a dog. a dog has sharp teeth so that it can eat flesh very easily. do you know my pet dog’s name? i love my pet very much.'\n",
    "#value=\"do i?\"\n",
    "print(function_name(value))"
   ]
  }
 ],
 "metadata": {
  "kernelspec": {
   "display_name": "Python 3 (ipykernel)",
   "language": "python",
   "name": "python3"
  },
  "language_info": {
   "codemirror_mode": {
    "name": "ipython",
    "version": 3
   },
   "file_extension": ".py",
   "mimetype": "text/x-python",
   "name": "python",
   "nbconvert_exporter": "python",
   "pygments_lexer": "ipython3",
   "version": "3.9.7"
  }
 },
 "nbformat": 4,
 "nbformat_minor": 5
}
